{
 "cells": [
  {
   "cell_type": "markdown",
   "id": "d769375f",
   "metadata": {},
   "source": [
    "# Data Science Tools and Ecosystem"
   ]
  },
  {
   "cell_type": "markdown",
   "id": "d7ebdde4",
   "metadata": {},
   "source": [
    "In this notebook, Data Science Tools and Ecosystem are summarized."
   ]
  },
  {
   "cell_type": "markdown",
   "id": "458eb2cb",
   "metadata": {},
   "source": [
    "**Objectives:**\n",
    "1. List common languages used in data science\n",
    "2. List common libraries used in data science\n",
    "3. List Open-source data science tools\n",
    "4. Evaluatie arithmetic expression in jupyter notebook\n",
    "5. Execute python code\n",
    "\n",
    "## Author\n",
    "Sumit Kumar"
   ]
  },
  {
   "cell_type": "markdown",
   "id": "c68bcdf3",
   "metadata": {},
   "source": [
    "Some of the popular languages that Data Scientists use are:\n",
    "\n",
    "1. Python\n",
    "2. R\n",
    "3. SQL\n",
    "4. Julia\n",
    "5. Java\n",
    "6. Scala"
   ]
  },
  {
   "cell_type": "markdown",
   "id": "67bbe8a1",
   "metadata": {},
   "source": [
    "Some of the commonly used libraries used by Data Scientists include:\n",
    "1. pandas\n",
    "2. numpy\n",
    "3. matplotlib\n",
    "4. seaborn\n",
    "5. tensorflow\n",
    "6. keras\n",
    "7. ggplot2\n",
    "8. caret"
   ]
  },
  {
   "attachments": {},
   "cell_type": "markdown",
   "id": "b43c5dc0",
   "metadata": {},
   "source": [
    "| Data Science Tools |\n",
    "| -------------------- |\n",
    "| Jupyter Notebook |\n",
    "| RStudio |\n",
    "| Spyder |"
   ]
  },
  {
   "cell_type": "markdown",
   "id": "7ab67a47",
   "metadata": {},
   "source": [
    "### Below are a few examples of evaluating arithmetic expressions in Python\n"
   ]
  },
  {
   "cell_type": "code",
   "execution_count": 4,
   "id": "9fcceb39",
   "metadata": {},
   "outputs": [
    {
     "data": {
      "text/plain": [
       "17"
      ]
     },
     "execution_count": 4,
     "metadata": {},
     "output_type": "execute_result"
    }
   ],
   "source": [
    "# This a simple arithmetic expression to mutiply then add integers\n",
    "(3*4)+5"
   ]
  },
  {
   "cell_type": "code",
   "execution_count": 6,
   "id": "33e4fc0a",
   "metadata": {},
   "outputs": [
    {
     "name": "stdout",
     "output_type": "stream",
     "text": [
      "3 hours 20 minutes\n"
     ]
    }
   ],
   "source": [
    "# This will convert 200 minutes to hours by dividing by 60\n",
    "minutes = 200\n",
    "print(minutes//60,\"hours\",minutes%60,\"minutes\")"
   ]
  },
  {
   "cell_type": "code",
   "execution_count": null,
   "id": "db9647bf",
   "metadata": {},
   "outputs": [],
   "source": []
  }
 ],
 "metadata": {
  "kernelspec": {
   "display_name": "Python 3 (ipykernel)",
   "language": "python",
   "name": "python3"
  },
  "language_info": {
   "codemirror_mode": {
    "name": "ipython",
    "version": 3
   },
   "file_extension": ".py",
   "mimetype": "text/x-python",
   "name": "python",
   "nbconvert_exporter": "python",
   "pygments_lexer": "ipython3",
   "version": "3.10.9"
  }
 },
 "nbformat": 4,
 "nbformat_minor": 5
}
